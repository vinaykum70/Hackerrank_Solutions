{
  "nbformat": 4,
  "nbformat_minor": 0,
  "metadata": {
    "colab": {
      "provenance": []
    },
    "kernelspec": {
      "name": "python3",
      "display_name": "Python 3"
    },
    "language_info": {
      "name": "python"
    }
  },
  "cells": [
    {
      "cell_type": "markdown",
      "source": [
        "#**Ans2.** "
      ],
      "metadata": {
        "id": "BO06pD8-fL6r"
      }
    },
    {
      "cell_type": "code",
      "source": [
        "if __name__ == '__main__':\n",
        "    x = int(input())\n",
        "    y = int(input())\n",
        "    z = int(input())\n",
        "    n = int(input())\n",
        "    \n",
        "ans = [[i, j, k] for i in range(x + 1) for j in range(y + 1) for k in range(z + 1) if i + j + k != n]\n",
        "print (ans)\n"
      ],
      "metadata": {
        "id": "WAxsuRhOzV3H"
      },
      "execution_count": null,
      "outputs": []
    },
    {
      "cell_type": "markdown",
      "source": [
        "#**Ans3.** "
      ],
      "metadata": {
        "id": "pbfuC5KapBER"
      }
    },
    {
      "cell_type": "code",
      "source": [
        "if __name__ == '__main__':\n",
        "    n = int(input())\n",
        "    arr = list(map(int, input().split()))\n",
        "    max = max(arr)\n",
        "    sc = None\n",
        "\n",
        "    for num in arr:\n",
        "        if num == max:\n",
        "            pass\n",
        "        elif sc == None:\n",
        "            sc = num\n",
        "        elif num > sc:\n",
        "            sc = num\n",
        "\n",
        "    print(sc)\n",
        "         \n",
        "    "
      ],
      "metadata": {
        "id": "DhYT2Jl226g5"
      },
      "execution_count": null,
      "outputs": []
    },
    {
      "cell_type": "markdown",
      "source": [
        "#**Ans4.** "
      ],
      "metadata": {
        "id": "ddUSr4tGpOy1"
      }
    },
    {
      "cell_type": "code",
      "source": [
        "if __name__ == '__main__':\n",
        "    n = int(input())\n",
        "    student_marks = {}\n",
        "    for _ in range(n):\n",
        "        name, *line = input().split()\n",
        "        scores = list(map(float, line))\n",
        "        student_marks[name] = scores\n",
        "        \n",
        "       \n",
        "    query_name = input()\n",
        "    if query_name in student_marks.keys():\n",
        "        values=student_marks[query_name]\n",
        "        avg=sum(values)/len(values)\n",
        "print(format(avg,\".2f\"))\n"
      ],
      "metadata": {
        "id": "mY3a-g7A8N5W"
      },
      "execution_count": null,
      "outputs": []
    },
    {
      "cell_type": "markdown",
      "source": [
        "#**Ans5.** "
      ],
      "metadata": {
        "id": "6co4Eo-Apb4n"
      }
    },
    {
      "cell_type": "code",
      "source": [
        "if __name__ == '__main__':\n",
        "    N = int(input())\n",
        "    l = []\n",
        "    for i in range(N):\n",
        "        s = list(input().split())\n",
        "        if s[0]=='insert':\n",
        "            l.insert(int(s[1]),int(s[2]))\n",
        "        if s[0]=='remove':\n",
        "            l.remove(int(s[1]))\n",
        "        if s[0]=='append':\n",
        "            l.append(int(s[1]))\n",
        "        if s[0]=='sort':\n",
        "            l.sort()\n",
        "        if s[0]=='pop':\n",
        "            l.pop()\n",
        "        if s[0]=='reverse':\n",
        "            l.reverse()     \n",
        "        if s[0]=='print':\n",
        "            print(l)\n"
      ],
      "metadata": {
        "id": "qQZQvG_TEqa1"
      },
      "execution_count": null,
      "outputs": []
    },
    {
      "cell_type": "markdown",
      "source": [
        "#**Ans6.** "
      ],
      "metadata": {
        "id": "zUAw2jExpoGa"
      }
    },
    {
      "cell_type": "code",
      "source": [
        "n = int(input())\n",
        "t = tuple(map(int, input().split(' ')))\n",
        "print (hash(t))"
      ],
      "metadata": {
        "id": "ImzqQ9n2KdnW"
      },
      "execution_count": null,
      "outputs": []
    },
    {
      "cell_type": "markdown",
      "source": [
        "#**Ans7.**"
      ],
      "metadata": {
        "id": "PMRxEfOVp0Io"
      }
    },
    {
      "cell_type": "code",
      "execution_count": null,
      "metadata": {
        "id": "sxTyAtn4fJco"
      },
      "outputs": [],
      "source": [
        "def average(array):\n",
        "    # your code goes here\n",
        "    arr=set(array)\n",
        "    res=sum(arr)/len(arr)\n",
        "    return res\n",
        "\n",
        "if __name__ == '__main__':\n",
        "    n = int(input())\n",
        "    arr = list(map(int, input().split()))\n",
        "    result = average(arr)\n",
        "    print(result)"
      ]
    },
    {
      "cell_type": "markdown",
      "source": [
        "#**Ans9.**"
      ],
      "metadata": {
        "id": "cFvDL_BkqFB-"
      }
    },
    {
      "cell_type": "code",
      "source": [
        "# Enter your code here. Read input from STDIN. Print output to STDOUT\n",
        "m=int(input().strip())\n",
        "s1=set(map(int, input().strip().split(' ')))\n",
        "\n",
        "n=int(input().strip())\n",
        "s2=set(map(int, input().strip().split(' ')))\n",
        "\n",
        "\n",
        "for element in sorted(s2^s1):\n",
        "    print(element)\n",
        "\n"
      ],
      "metadata": {
        "id": "20_FtA9e_r5o"
      },
      "execution_count": null,
      "outputs": []
    },
    {
      "cell_type": "markdown",
      "source": [
        "#**Ans10.**"
      ],
      "metadata": {
        "id": "ZpJnbGmTqVQY"
      }
    },
    {
      "cell_type": "code",
      "source": [
        "# Enter your code here. Read input from STDIN. Print output to STDOUT\n",
        "n = int(input())\n",
        "\n",
        "country = set()\n",
        "\n",
        "for i in range(n):\n",
        "    i=input()\n",
        "    country.add(i)\n",
        "\n",
        "print(len(country))\n"
      ],
      "metadata": {
        "id": "uYItbd3e-Jvw"
      },
      "execution_count": null,
      "outputs": []
    },
    {
      "cell_type": "markdown",
      "source": [
        "#**Ans12.**"
      ],
      "metadata": {
        "id": "dCmP4UCqqp_x"
      }
    },
    {
      "cell_type": "code",
      "source": [
        "#Enter your code here. Read input from STDIN. Print output to STDOUT\n",
        "\n",
        "n = int(input())\n",
        "set1 = set(input().split());\n",
        "\n",
        "m = int(input())\n",
        "set2 = set(input().split());\n",
        "\n",
        "set3 = set1.union(set2)\n",
        "\n",
        "print(len(set3))\n"
      ],
      "metadata": {
        "id": "zg2VuF3_-6Mx"
      },
      "execution_count": null,
      "outputs": []
    },
    {
      "cell_type": "markdown",
      "source": [
        "#**Ans13.**"
      ],
      "metadata": {
        "id": "BsEa5heUqv4X"
      }
    },
    {
      "cell_type": "code",
      "source": [
        "# Enter your code here. Read input from STDIN. Print output to STDOUT\n",
        "\n",
        "n = int(input())\n",
        "set1 = set(input().split());\n",
        "\n",
        "m = int(input())\n",
        "set2 = set(input().split());\n",
        "\n",
        "set3 = set1.intersection(set2)\n",
        "\n",
        "print(len(set3))\n"
      ],
      "metadata": {
        "id": "Z13hb1YYCl_b"
      },
      "execution_count": null,
      "outputs": []
    },
    {
      "cell_type": "markdown",
      "source": [
        "#**Ans14.**"
      ],
      "metadata": {
        "id": "0_aqTevwq7o2"
      }
    },
    {
      "cell_type": "code",
      "source": [
        "# Enter your code here. Read input from STDIN. Print output to STDOUT\n",
        "\n",
        "n = int(input())\n",
        "set1 = set(input().split());\n",
        "\n",
        "m = int(input())\n",
        "set2 = set(input().split());\n",
        "\n",
        "set3 = set1.difference(set2)\n",
        "\n",
        "print(len(set3))\n"
      ],
      "metadata": {
        "id": "_D3OTJT-W0Fy"
      },
      "execution_count": null,
      "outputs": []
    },
    {
      "cell_type": "markdown",
      "source": [
        "#**Ans15.**"
      ],
      "metadata": {
        "id": "2WBJhE4TrFTu"
      }
    },
    {
      "cell_type": "code",
      "source": [
        "# Enter your code here. Read input from STDIN. Print output to STDOUT\n",
        "\n",
        "n = int(input())\n",
        "set1 = set(input().split());\n",
        "\n",
        "m = int(input())\n",
        "set2 = set(input().split());\n",
        "\n",
        "set3 = set1.symmetric_difference(set2)\n",
        "\n",
        "print(len(set3))\n"
      ],
      "metadata": {
        "id": "e64QyOmMjcY_"
      },
      "execution_count": null,
      "outputs": []
    },
    {
      "cell_type": "markdown",
      "source": [
        "#**Ans16.**"
      ],
      "metadata": {
        "id": "WSg-u3u-rO4u"
      }
    },
    {
      "cell_type": "code",
      "source": [
        "# Enter your code here. Read input from STDIN. Print output to STDOUT\n",
        "\n",
        "len_set = int(input())\n",
        "\n",
        "storage = set(map(int, input().split()))\n",
        "\n",
        "op_len = int(input())\n",
        "\n",
        "for i in range(op_len):\n",
        "    operation = input().split()\n",
        "    if operation[0] == 'intersection_update':\n",
        "        temp_storage = set(map(int, input().split()))\n",
        "        storage.intersection_update(temp_storage)\n",
        "    elif operation[0] == 'update':\n",
        "        temp_storage = set(map(int, input().split()))\n",
        "        storage.update(temp_storage)\n",
        "    elif operation[0] == 'symmetric_difference_update':\n",
        "        temp_storage = set(map(int, input().split()))\n",
        "        storage.symmetric_difference_update(temp_storage)\n",
        "    elif operation[0] == 'difference_update':\n",
        "        temp_storage = set(map(int, input().split()))\n",
        "        storage.difference_update(temp_storage)\n",
        "    else :\n",
        "        assert False\n",
        "\n",
        "print(sum(storage))\n"
      ],
      "metadata": {
        "id": "LChSeINErS0X"
      },
      "execution_count": null,
      "outputs": []
    },
    {
      "cell_type": "markdown",
      "source": [
        "\n",
        "#**Ans18.**\n",
        "\n"
      ],
      "metadata": {
        "id": "9pIWZCKTrZQl"
      }
    },
    {
      "cell_type": "code",
      "source": [
        "# Enter your code here. Read input from STDIN. Print output to STDOUT\n",
        "n=int(input())\n",
        "for i in range(n):\n",
        "    a=int(input())\n",
        "    set_A=set(map(int,input().split()))\n",
        "    b=int(input())\n",
        "    set_B=set(map(int,input().split()))\n",
        "    if (set_A.issubset(set_B)):\n",
        "        print(\"True\")\n",
        "    else:\n",
        "        print(\"False\")\n"
      ],
      "metadata": {
        "id": "z3wgSbDkrdqy"
      },
      "execution_count": null,
      "outputs": []
    }
  ]
}