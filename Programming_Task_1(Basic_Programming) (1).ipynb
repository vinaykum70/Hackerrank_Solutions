{
  "nbformat": 4,
  "nbformat_minor": 0,
  "metadata": {
    "colab": {
      "provenance": []
    },
    "kernelspec": {
      "name": "python3",
      "display_name": "Python 3"
    },
    "language_info": {
      "name": "python"
    }
  },
  "cells": [
    {
      "cell_type": "markdown",
      "source": [
        "#**Ans1.** "
      ],
      "metadata": {
        "id": "o9ymLpZHXnNG"
      }
    },
    {
      "cell_type": "code",
      "execution_count": null,
      "metadata": {
        "id": "CfOTSPhNWPbW"
      },
      "outputs": [],
      "source": [
        "print(\"Hello, World!\")\n"
      ]
    },
    {
      "cell_type": "markdown",
      "source": [
        "#**Ans2.** "
      ],
      "metadata": {
        "id": "wrf-xTTEXlaB"
      }
    },
    {
      "cell_type": "code",
      "source": [
        "if __name__ == '__main__':\n",
        "    n = int(input().strip())\n",
        "if n%2!=0:\n",
        "    print(\"Weird\")\n",
        "elif n>1 and n<6:\n",
        "    print(\"Not Weird\")\n",
        "elif n>5 and n<21:\n",
        "    print(\"Weird\")\n",
        "else:\n",
        "    print(\"Not Weird\")"
      ],
      "metadata": {
        "id": "bM7GCtWgYVDV"
      },
      "execution_count": null,
      "outputs": []
    },
    {
      "cell_type": "markdown",
      "source": [
        "#**Ans3.**"
      ],
      "metadata": {
        "id": "UyYYK19FYm-k"
      }
    },
    {
      "cell_type": "code",
      "source": [
        "if __name__ == '__main__':\n",
        "    a = int(input())\n",
        "    b = int(input())\n",
        "    c=a+b\n",
        "    print(c)\n",
        "    c=a-b\n",
        "    print(c)\n",
        "    c=a*b\n",
        "    print(c)\n"
      ],
      "metadata": {
        "id": "Vy7doyOiY_1B"
      },
      "execution_count": null,
      "outputs": []
    },
    {
      "cell_type": "markdown",
      "source": [
        "#**Ans4.**"
      ],
      "metadata": {
        "id": "e9YmMqyCZP_g"
      }
    },
    {
      "cell_type": "code",
      "source": [
        "if __name__ == '__main__':\n",
        "    a = int(input())\n",
        "    b = int(input())\n",
        "    c=a//b\n",
        "    print(c)\n",
        "    c=a/b\n",
        "    print(c)"
      ],
      "metadata": {
        "id": "QhX_yvsqZj7u"
      },
      "execution_count": null,
      "outputs": []
    },
    {
      "cell_type": "markdown",
      "source": [
        "#**Ans5.**"
      ],
      "metadata": {
        "id": "wAQiC8ZgZz0t"
      }
    },
    {
      "cell_type": "code",
      "source": [
        "if __name__ == '__main__':\n",
        "    n = int(input())\n",
        "    \n",
        "    for i in range(n):\n",
        "        i=i*i\n",
        "        print(i)"
      ],
      "metadata": {
        "id": "ssqNW1jDZ4Oy"
      },
      "execution_count": null,
      "outputs": []
    },
    {
      "cell_type": "markdown",
      "source": [
        "#**Ans6.**"
      ],
      "metadata": {
        "id": "kKvP7XsDaJAC"
      }
    },
    {
      "cell_type": "code",
      "source": [
        "def is_leap(year):\n",
        "    leap = False\n",
        "    \n",
        "    \n",
        "    if((year%4==0 and year%100!=0) or year%400 ==0 ):\n",
        "    \n",
        "        return not leap\n",
        "    else:\n",
        "        return leap"
      ],
      "metadata": {
        "id": "xfijhdj-aarG"
      },
      "execution_count": null,
      "outputs": []
    },
    {
      "cell_type": "markdown",
      "source": [
        "#**Ans7.**"
      ],
      "metadata": {
        "id": "9Ns5JZLSag66"
      }
    },
    {
      "cell_type": "code",
      "source": [
        "if __name__ == '__main__':\n",
        "    n = int(input())\n",
        "    \n",
        "    for i in range(1,n+1):\n",
        "        print(i, end=\"\")"
      ],
      "metadata": {
        "id": "7poNqhmkakZI"
      },
      "execution_count": null,
      "outputs": []
    }
  ]
}