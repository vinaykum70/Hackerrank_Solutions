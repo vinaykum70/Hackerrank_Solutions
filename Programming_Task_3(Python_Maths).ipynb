{
  "nbformat": 4,
  "nbformat_minor": 0,
  "metadata": {
    "colab": {
      "provenance": []
    },
    "kernelspec": {
      "name": "python3",
      "display_name": "Python 3"
    },
    "language_info": {
      "name": "python"
    }
  },
  "cells": [
    {
      "cell_type": "markdown",
      "source": [
        "#**Ans2.**"
      ],
      "metadata": {
        "id": "H2BdtwKzsTFp"
      }
    },
    {
      "cell_type": "code",
      "execution_count": null,
      "metadata": {
        "id": "5i5DhlIUsIFA"
      },
      "outputs": [],
      "source": [
        "# Enter your code here. Read input from STDIN. Print output to STDOUT\n",
        "import cmath\n",
        "n=complex(input())\n",
        "z=complex(n)\n",
        "\n",
        "print(cmath.polar(z)[0])\n",
        "print(cmath.polar(z)[1])\n"
      ]
    },
    {
      "cell_type": "markdown",
      "source": [
        "#**Ans3.**"
      ],
      "metadata": {
        "id": "elwr9X_ZteZs"
      }
    },
    {
      "cell_type": "code",
      "source": [
        "\n",
        "\n",
        "\n",
        "\n",
        "for i in range(1,int(input())+1): #More than 2 lines will result in 0 score. Do not leave a blank line also\n",
        "    print((10 ** i - 1) ** 2 // 81) \n",
        "\n",
        "    \n",
        "    \n"
      ],
      "metadata": {
        "id": "ax0Fy6CAtAmt"
      },
      "execution_count": null,
      "outputs": []
    },
    {
      "cell_type": "markdown",
      "source": [
        "#**Ans4.**"
      ],
      "metadata": {
        "id": "iVsb4B8wtpkO"
      }
    },
    {
      "cell_type": "code",
      "source": [
        "# Enter your code here. Read input from STDIN. Print output to STDOUT\n",
        "a=int(input())\n",
        "b=int(input())\n",
        "print(a//b)\n",
        "print(a%b)\n",
        "print(divmod(a,b))\n"
      ],
      "metadata": {
        "id": "Ak6pp4p6trdw"
      },
      "execution_count": null,
      "outputs": []
    },
    {
      "cell_type": "markdown",
      "source": [
        "#**Ans5.**"
      ],
      "metadata": {
        "id": "qSQTgEShtwiL"
      }
    },
    {
      "cell_type": "code",
      "source": [
        "# Enter your code here. Read input from STDIN. Print output to STDOUT\n",
        "a=int(input())\n",
        "b=int(input())\n",
        "m=int(input())\n",
        "print(pow(a,b))\n",
        "print(pow(a,b,m))\n"
      ],
      "metadata": {
        "id": "ykJ44Ln5t4_h"
      },
      "execution_count": null,
      "outputs": []
    },
    {
      "cell_type": "markdown",
      "source": [
        "#**Ans6.**"
      ],
      "metadata": {
        "id": "lSbPd_U2t57o"
      }
    },
    {
      "cell_type": "code",
      "source": [
        "# Enter your code here. Read input from STDIN. Print output to STDOUT\n",
        "\n",
        "a=int(input())\n",
        "b=int(input())\n",
        "c=int(input())\n",
        "d=int(input())\n",
        "print(pow(a,b)+pow(c,d))\n"
      ],
      "metadata": {
        "id": "oVzu9EAnt9Fe"
      },
      "execution_count": null,
      "outputs": []
    },
    {
      "cell_type": "markdown",
      "source": [
        "#**Ans7.**"
      ],
      "metadata": {
        "id": "Zu0qTCZzuCJV"
      }
    },
    {
      "cell_type": "code",
      "source": [
        "for i in range(1,int(input())):#More than 2 lines will result in 0 score. Do not leave a blank line also\n",
        "         print(i*((10**i-1)//9))\n",
        "         \n",
        "         \n",
        "        \n",
        "          \n",
        "    \n",
        "        \n"
      ],
      "metadata": {
        "id": "t6jslQ6BuEqe"
      },
      "execution_count": null,
      "outputs": []
    }
  ]
}