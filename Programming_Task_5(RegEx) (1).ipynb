{
  "nbformat": 4,
  "nbformat_minor": 0,
  "metadata": {
    "colab": {
      "provenance": []
    },
    "kernelspec": {
      "name": "python3",
      "display_name": "Python 3"
    },
    "language_info": {
      "name": "python"
    }
  },
  "cells": [
    {
      "cell_type": "markdown",
      "source": [
        "#**Ans2.**"
      ],
      "metadata": {
        "id": "g_gbmZi-tH6o"
      }
    },
    {
      "cell_type": "code",
      "source": [
        "import re\n",
        "n=int(input())\n",
        "for i in range(n):\n",
        "    num=input()\n",
        "    print(bool(re.match(r\"^[-+]?[0-9]*\\.[0-9]+$\", num)))"
      ],
      "metadata": {
        "id": "RNY4B5q2tKsI"
      },
      "execution_count": null,
      "outputs": []
    },
    {
      "cell_type": "markdown",
      "source": [
        "#**Ans3.**"
      ],
      "metadata": {
        "id": "472F7f000k6u"
      }
    },
    {
      "cell_type": "code",
      "execution_count": null,
      "metadata": {
        "id": "DxSy8Mgr0ULZ"
      },
      "outputs": [],
      "source": [
        "regex_pattern = r\"\\D\"\t# Do not delete 'r'.\n",
        "\n",
        "\n",
        "import re\n",
        "print(\"\\n\".join(re.split(regex_pattern, input())))"
      ]
    },
    {
      "cell_type": "markdown",
      "source": [
        "#**Ans5.**"
      ],
      "metadata": {
        "id": "L1hAwWRX06Fb"
      }
    },
    {
      "cell_type": "code",
      "source": [
        "# Enter your code here. Read input from STDIN. Print output to STDOUT\n",
        "import re\n",
        "S, k = input(), input()\n",
        "matches = re.finditer(r'(?=(' + k + '))', S)\n",
        "\n",
        "anymatch = False\n",
        "for match in matches:\n",
        "    anymatch = True\n",
        "    print((match.start(1), match.end(1) - 1))\n",
        "\n",
        "if anymatch == False:\n",
        "    print((-1, -1))\n"
      ],
      "metadata": {
        "id": "TiH-QSvF1Bka"
      },
      "execution_count": null,
      "outputs": []
    },
    {
      "cell_type": "markdown",
      "source": [
        "#**Ans5.**"
      ],
      "metadata": {
        "id": "cwRR3v5ek1FJ"
      }
    },
    {
      "cell_type": "code",
      "source": [
        "import re\n",
        "n=int(input())\n",
        "for i in range(n):\n",
        "    num=input()\n",
        "    if(len(num)==10 and num.isdigit()):\n",
        "        output = re.findall(r\"[789]\\d{9}\",num)\n",
        "        if(len(output)==1):\n",
        "            print(\"YES\")\n",
        "        else:\n",
        "            print(\"NO\")\n",
        "    else:\n",
        "        print(\"NO\")"
      ],
      "metadata": {
        "id": "Df-GLUOok1kX"
      },
      "execution_count": null,
      "outputs": []
    }
  ]
}