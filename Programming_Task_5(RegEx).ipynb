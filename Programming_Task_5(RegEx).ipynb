{
  "nbformat": 4,
  "nbformat_minor": 0,
  "metadata": {
    "colab": {
      "provenance": []
    },
    "kernelspec": {
      "name": "python3",
      "display_name": "Python 3"
    },
    "language_info": {
      "name": "python"
    }
  },
  "cells": [
    {
      "cell_type": "markdown",
      "source": [
        "#**Ans2.**"
      ],
      "metadata": {
        "id": "472F7f000k6u"
      }
    },
    {
      "cell_type": "code",
      "execution_count": null,
      "metadata": {
        "id": "DxSy8Mgr0ULZ"
      },
      "outputs": [],
      "source": [
        "regex_pattern = r\"\\D\"\t# Do not delete 'r'.\n",
        "\n",
        "\n",
        "import re\n",
        "print(\"\\n\".join(re.split(regex_pattern, input())))"
      ]
    },
    {
      "cell_type": "markdown",
      "source": [
        "#**Ans5.**"
      ],
      "metadata": {
        "id": "L1hAwWRX06Fb"
      }
    },
    {
      "cell_type": "code",
      "source": [
        "# Enter your code here. Read input from STDIN. Print output to STDOUT\n",
        "import re\n",
        "S, k = input(), input()\n",
        "matches = re.finditer(r'(?=(' + k + '))', S)\n",
        "\n",
        "anymatch = False\n",
        "for match in matches:\n",
        "    anymatch = True\n",
        "    print((match.start(1), match.end(1) - 1))\n",
        "\n",
        "if anymatch == False:\n",
        "    print((-1, -1))\n"
      ],
      "metadata": {
        "id": "TiH-QSvF1Bka"
      },
      "execution_count": null,
      "outputs": []
    }
  ]
}